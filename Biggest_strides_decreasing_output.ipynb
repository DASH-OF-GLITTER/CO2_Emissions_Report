{
  "nbformat": 4,
  "nbformat_minor": 0,
  "metadata": {
    "colab": {
      "provenance": []
    },
    "kernelspec": {
      "name": "python3",
      "display_name": "Python 3"
    },
    "language_info": {
      "name": "python"
    }
  },
  "cells": [
    {
      "cell_type": "markdown",
      "source": [
        "\n",
        "---\n",
        "# BIGGEST STRIDES REDUCING CO2\n",
        "---\n",
        "\n",
        "\n",
        "```\n",
        "*#(PART 2/3 OF MAIN REPORT_CO2_EMISSIONS)*\n",
        "```\n",
        "\n",
        "\n"
      ],
      "metadata": {
        "id": "J8Zuzh_P4iEH"
      }
    },
    {
      "cell_type": "markdown",
      "source": [
        "![green.png](data:image/png;base64,iVBORw0KGgoAAAANSUhEUgAAA/IAAAALCAYAAADcF7Z0AAAAAXNSR0IArs4c6QAAAARnQU1BAACxjwv8YQUAAAAJcEhZcwAADsQAAA7EAZUrDhsAAABlSURBVHhe7dcxEQAhEMDA4/27o8cK32AiM7tNNGSdPXcAAACAhO8VAAAACDDyAAAAEGLkAQAAIMTIAwAAQIiRBwAAgBAjDwAAACFGHgAAAEKMPAAAAIQYeQAAAAgx8gAAAJAx8wPe+gLGKz/e/QAAAABJRU5ErkJggg==)"
      ],
      "metadata": {
        "id": "a5rihllTLTB-"
      }
    },
    {
      "cell_type": "markdown",
      "source": [
        "\n",
        "> In order to see which countries are making the biggest strides in decreasing their CO2 output. First I calculated the relative Co2 output for each country for 1993 and 2021. The next step is calculating the percentage of change between the two years. To take growing and shrinking populations into account, I will be using CO2 emissions per capita for calculations. The Co2 data used in this analysis is sourced from the \"Our World In Data\" website\n",
        "\n",
        "*for more explaination and details see: `REFERENCES`*\n",
        "\n",
        "\n",
        "\n"
      ],
      "metadata": {
        "id": "gSNQyWxwf2Rg"
      }
    },
    {
      "cell_type": "markdown",
      "source": [
        "\n",
        "\n",
        "---\n",
        "\n",
        "\n",
        "# Reading In Data\n",
        "\n",
        "---\n",
        "\n"
      ],
      "metadata": {
        "id": "jbzHOSrRe1vn"
      }
    },
    {
      "cell_type": "code",
      "execution_count": null,
      "metadata": {
        "colab": {
          "base_uri": "https://localhost:8080/"
        },
        "id": "DJ2YH3BNT3V1",
        "outputId": "aeb3af96-cf0b-4fc9-bbb4-3335c319c97b"
      },
      "outputs": [
        {
          "output_type": "stream",
          "name": "stdout",
          "text": [
            "The google.colab.data_table extension is already loaded. To reload it, use:\n",
            "  %reload_ext google.colab.data_table\n"
          ]
        }
      ],
      "source": [
        "#Importing the usual things and reading in the dataframe.\n",
        "\n",
        "import pandas as pd\n",
        "import numpy as np\n",
        "import matplotlib.pyplot as plt\n",
        "%load_ext google.colab.data_table\n",
        "pd.options.display.float_format = '{:.2%}'.format\n",
        "get_owid_col=['country', 'year', 'iso_code','co2_per_capita']\n",
        "\n",
        "df = pd.read_csv('https://raw.githubusercontent.com/DASH-OF-GLITTER/CO2_Emissions_Report/main/owid-co2-data.csv', usecols=get_owid_col)\n",
        "\n",
        "df_two_years = df.loc[(df[\"year\"] == 1993) | (df[\"year\"] == 2021)]\n",
        "df_two_years = df_two_years.dropna(subset = ['iso_code'])\n",
        "df_two_years = df_two_years.drop(columns=['iso_code'])\n",
        "\n",
        "#display(df_two_years)\n",
        "\n",
        "df_two_years_wide = df_two_years.pivot(index='country', columns='year', values='co2_per_capita')\n",
        "#display(df_two_years_wide)"
      ]
    },
    {
      "cell_type": "markdown",
      "source": [
        "\n",
        "\n",
        "---\n",
        "\n",
        "\n",
        "# Creating Columns - Calculating Percentage Of Change - Reshaping\n",
        "\n",
        "---\n",
        "\n"
      ],
      "metadata": {
        "id": "q5ZlC2Qz7nMW"
      }
    },
    {
      "cell_type": "code",
      "source": [
        "df_two_years_wide.dropna(inplace=True)\n",
        "#Creating new column with percentage of change since 1993 to 2021.\n",
        "df_two_years_wide['2021vs1993ch'] = ((df_two_years_wide.loc[:,2021] - df_two_years_wide.loc[:,1993]) / df_two_years_wide.loc[:,1993])\n",
        "\n",
        "#Sorting countries to see who is making the biggest strides\n",
        "df_biggest_strides = df_two_years_wide.sort_values(by='2021vs1993ch', ascending=True).head(10)\n",
        "df_biggest_strides['2021vs1993ch'] = df_biggest_strides['2021vs1993ch'].map('{:.2%}'.format)\n",
        "\n",
        "#display(df_biggest_strides)\n",
        "\n",
        "#Reshaping data for use in chart B\n",
        "reshape_biggest_strides = df_biggest_strides.T\n",
        "reshape_biggest_strides.reset_index(inplace=True)\n",
        "reshape_biggest_strides.rename(columns={'Democratic Republic of Congo': 'Congo Kinshasa'},inplace=True)\n",
        "reshape_biggest_strides"
      ],
      "metadata": {
        "id": "IKKU6U7q0c4q",
        "colab": {
          "base_uri": "https://localhost:8080/",
          "height": 185
        },
        "outputId": "78e5b372-b57b-4e17-b1cc-7a75f6f54f3b"
      },
      "execution_count": null,
      "outputs": [
        {
          "output_type": "execute_result",
          "data": {
            "text/plain": [
              "country          year  Curacao French Guiana Singapore  Somalia    Syria  \\\n",
              "0                1993 3164.50%       682.80%  1489.50%    9.70%  334.10%   \n",
              "1                2021  968.60%       219.00%   547.20%    3.60%  126.60%   \n",
              "2        2021vs1993ch  -69.39%       -67.93%   -63.26%  -62.89%  -62.11%   \n",
              "\n",
              "country Congo Kinshasa Luxembourg    Malta    Nauru  Denmark  \n",
              "0                6.70%   3114.30%  764.90% 1108.20% 1167.50%  \n",
              "1                2.70%   1306.80%  327.30%  475.60%  505.20%  \n",
              "2              -59.70%    -58.04%  -57.21%  -57.08%  -56.73%  "
            ],
            "text/html": [
              "\n",
              "  <div id=\"df-48602fe3-c3d9-4513-a620-501f43e1e930\" class=\"colab-df-container\">\n",
              "    <div>\n",
              "<style scoped>\n",
              "    .dataframe tbody tr th:only-of-type {\n",
              "        vertical-align: middle;\n",
              "    }\n",
              "\n",
              "    .dataframe tbody tr th {\n",
              "        vertical-align: top;\n",
              "    }\n",
              "\n",
              "    .dataframe thead th {\n",
              "        text-align: right;\n",
              "    }\n",
              "</style>\n",
              "<table border=\"1\" class=\"dataframe\">\n",
              "  <thead>\n",
              "    <tr style=\"text-align: right;\">\n",
              "      <th>country</th>\n",
              "      <th>year</th>\n",
              "      <th>Curacao</th>\n",
              "      <th>French Guiana</th>\n",
              "      <th>Singapore</th>\n",
              "      <th>Somalia</th>\n",
              "      <th>Syria</th>\n",
              "      <th>Congo Kinshasa</th>\n",
              "      <th>Luxembourg</th>\n",
              "      <th>Malta</th>\n",
              "      <th>Nauru</th>\n",
              "      <th>Denmark</th>\n",
              "    </tr>\n",
              "  </thead>\n",
              "  <tbody>\n",
              "    <tr>\n",
              "      <th>0</th>\n",
              "      <td>1993</td>\n",
              "      <td>3164.50%</td>\n",
              "      <td>682.80%</td>\n",
              "      <td>1489.50%</td>\n",
              "      <td>9.70%</td>\n",
              "      <td>334.10%</td>\n",
              "      <td>6.70%</td>\n",
              "      <td>3114.30%</td>\n",
              "      <td>764.90%</td>\n",
              "      <td>1108.20%</td>\n",
              "      <td>1167.50%</td>\n",
              "    </tr>\n",
              "    <tr>\n",
              "      <th>1</th>\n",
              "      <td>2021</td>\n",
              "      <td>968.60%</td>\n",
              "      <td>219.00%</td>\n",
              "      <td>547.20%</td>\n",
              "      <td>3.60%</td>\n",
              "      <td>126.60%</td>\n",
              "      <td>2.70%</td>\n",
              "      <td>1306.80%</td>\n",
              "      <td>327.30%</td>\n",
              "      <td>475.60%</td>\n",
              "      <td>505.20%</td>\n",
              "    </tr>\n",
              "    <tr>\n",
              "      <th>2</th>\n",
              "      <td>2021vs1993ch</td>\n",
              "      <td>-69.39%</td>\n",
              "      <td>-67.93%</td>\n",
              "      <td>-63.26%</td>\n",
              "      <td>-62.89%</td>\n",
              "      <td>-62.11%</td>\n",
              "      <td>-59.70%</td>\n",
              "      <td>-58.04%</td>\n",
              "      <td>-57.21%</td>\n",
              "      <td>-57.08%</td>\n",
              "      <td>-56.73%</td>\n",
              "    </tr>\n",
              "  </tbody>\n",
              "</table>\n",
              "</div>\n",
              "    <div class=\"colab-df-buttons\">\n",
              "\n",
              "  <div class=\"colab-df-container\">\n",
              "    <button class=\"colab-df-convert\" onclick=\"convertToInteractive('df-48602fe3-c3d9-4513-a620-501f43e1e930')\"\n",
              "            title=\"Convert this dataframe to an interactive table.\"\n",
              "            style=\"display:none;\">\n",
              "\n",
              "  <svg xmlns=\"http://www.w3.org/2000/svg\" height=\"24px\" viewBox=\"0 -960 960 960\">\n",
              "    <path d=\"M120-120v-720h720v720H120Zm60-500h600v-160H180v160Zm220 220h160v-160H400v160Zm0 220h160v-160H400v160ZM180-400h160v-160H180v160Zm440 0h160v-160H620v160ZM180-180h160v-160H180v160Zm440 0h160v-160H620v160Z\"/>\n",
              "  </svg>\n",
              "    </button>\n",
              "\n",
              "  <style>\n",
              "    .colab-df-container {\n",
              "      display:flex;\n",
              "      gap: 12px;\n",
              "    }\n",
              "\n",
              "    .colab-df-convert {\n",
              "      background-color: #E8F0FE;\n",
              "      border: none;\n",
              "      border-radius: 50%;\n",
              "      cursor: pointer;\n",
              "      display: none;\n",
              "      fill: #1967D2;\n",
              "      height: 32px;\n",
              "      padding: 0 0 0 0;\n",
              "      width: 32px;\n",
              "    }\n",
              "\n",
              "    .colab-df-convert:hover {\n",
              "      background-color: #E2EBFA;\n",
              "      box-shadow: 0px 1px 2px rgba(60, 64, 67, 0.3), 0px 1px 3px 1px rgba(60, 64, 67, 0.15);\n",
              "      fill: #174EA6;\n",
              "    }\n",
              "\n",
              "    .colab-df-buttons div {\n",
              "      margin-bottom: 4px;\n",
              "    }\n",
              "\n",
              "    [theme=dark] .colab-df-convert {\n",
              "      background-color: #3B4455;\n",
              "      fill: #D2E3FC;\n",
              "    }\n",
              "\n",
              "    [theme=dark] .colab-df-convert:hover {\n",
              "      background-color: #434B5C;\n",
              "      box-shadow: 0px 1px 3px 1px rgba(0, 0, 0, 0.15);\n",
              "      filter: drop-shadow(0px 1px 2px rgba(0, 0, 0, 0.3));\n",
              "      fill: #FFFFFF;\n",
              "    }\n",
              "  </style>\n",
              "\n",
              "    <script>\n",
              "      const buttonEl =\n",
              "        document.querySelector('#df-48602fe3-c3d9-4513-a620-501f43e1e930 button.colab-df-convert');\n",
              "      buttonEl.style.display =\n",
              "        google.colab.kernel.accessAllowed ? 'block' : 'none';\n",
              "\n",
              "      async function convertToInteractive(key) {\n",
              "        const element = document.querySelector('#df-48602fe3-c3d9-4513-a620-501f43e1e930');\n",
              "        const dataTable =\n",
              "          await google.colab.kernel.invokeFunction('convertToInteractive',\n",
              "                                                    [key], {});\n",
              "        if (!dataTable) return;\n",
              "\n",
              "        const docLinkHtml = 'Like what you see? Visit the ' +\n",
              "          '<a target=\"_blank\" href=https://colab.research.google.com/notebooks/data_table.ipynb>data table notebook</a>'\n",
              "          + ' to learn more about interactive tables.';\n",
              "        element.innerHTML = '';\n",
              "        dataTable['output_type'] = 'display_data';\n",
              "        await google.colab.output.renderOutput(dataTable, element);\n",
              "        const docLink = document.createElement('div');\n",
              "        docLink.innerHTML = docLinkHtml;\n",
              "        element.appendChild(docLink);\n",
              "      }\n",
              "    </script>\n",
              "  </div>\n",
              "\n",
              "\n",
              "<div id=\"df-b26a71af-98f4-423d-a402-c0a3db237508\">\n",
              "  <button class=\"colab-df-quickchart\" onclick=\"quickchart('df-b26a71af-98f4-423d-a402-c0a3db237508')\"\n",
              "            title=\"Suggest charts.\"\n",
              "            style=\"display:none;\">\n",
              "\n",
              "<svg xmlns=\"http://www.w3.org/2000/svg\" height=\"24px\"viewBox=\"0 0 24 24\"\n",
              "     width=\"24px\">\n",
              "    <g>\n",
              "        <path d=\"M19 3H5c-1.1 0-2 .9-2 2v14c0 1.1.9 2 2 2h14c1.1 0 2-.9 2-2V5c0-1.1-.9-2-2-2zM9 17H7v-7h2v7zm4 0h-2V7h2v10zm4 0h-2v-4h2v4z\"/>\n",
              "    </g>\n",
              "</svg>\n",
              "  </button>\n",
              "\n",
              "<style>\n",
              "  .colab-df-quickchart {\n",
              "      --bg-color: #E8F0FE;\n",
              "      --fill-color: #1967D2;\n",
              "      --hover-bg-color: #E2EBFA;\n",
              "      --hover-fill-color: #174EA6;\n",
              "      --disabled-fill-color: #AAA;\n",
              "      --disabled-bg-color: #DDD;\n",
              "  }\n",
              "\n",
              "  [theme=dark] .colab-df-quickchart {\n",
              "      --bg-color: #3B4455;\n",
              "      --fill-color: #D2E3FC;\n",
              "      --hover-bg-color: #434B5C;\n",
              "      --hover-fill-color: #FFFFFF;\n",
              "      --disabled-bg-color: #3B4455;\n",
              "      --disabled-fill-color: #666;\n",
              "  }\n",
              "\n",
              "  .colab-df-quickchart {\n",
              "    background-color: var(--bg-color);\n",
              "    border: none;\n",
              "    border-radius: 50%;\n",
              "    cursor: pointer;\n",
              "    display: none;\n",
              "    fill: var(--fill-color);\n",
              "    height: 32px;\n",
              "    padding: 0;\n",
              "    width: 32px;\n",
              "  }\n",
              "\n",
              "  .colab-df-quickchart:hover {\n",
              "    background-color: var(--hover-bg-color);\n",
              "    box-shadow: 0 1px 2px rgba(60, 64, 67, 0.3), 0 1px 3px 1px rgba(60, 64, 67, 0.15);\n",
              "    fill: var(--button-hover-fill-color);\n",
              "  }\n",
              "\n",
              "  .colab-df-quickchart-complete:disabled,\n",
              "  .colab-df-quickchart-complete:disabled:hover {\n",
              "    background-color: var(--disabled-bg-color);\n",
              "    fill: var(--disabled-fill-color);\n",
              "    box-shadow: none;\n",
              "  }\n",
              "\n",
              "  .colab-df-spinner {\n",
              "    border: 2px solid var(--fill-color);\n",
              "    border-color: transparent;\n",
              "    border-bottom-color: var(--fill-color);\n",
              "    animation:\n",
              "      spin 1s steps(1) infinite;\n",
              "  }\n",
              "\n",
              "  @keyframes spin {\n",
              "    0% {\n",
              "      border-color: transparent;\n",
              "      border-bottom-color: var(--fill-color);\n",
              "      border-left-color: var(--fill-color);\n",
              "    }\n",
              "    20% {\n",
              "      border-color: transparent;\n",
              "      border-left-color: var(--fill-color);\n",
              "      border-top-color: var(--fill-color);\n",
              "    }\n",
              "    30% {\n",
              "      border-color: transparent;\n",
              "      border-left-color: var(--fill-color);\n",
              "      border-top-color: var(--fill-color);\n",
              "      border-right-color: var(--fill-color);\n",
              "    }\n",
              "    40% {\n",
              "      border-color: transparent;\n",
              "      border-right-color: var(--fill-color);\n",
              "      border-top-color: var(--fill-color);\n",
              "    }\n",
              "    60% {\n",
              "      border-color: transparent;\n",
              "      border-right-color: var(--fill-color);\n",
              "    }\n",
              "    80% {\n",
              "      border-color: transparent;\n",
              "      border-right-color: var(--fill-color);\n",
              "      border-bottom-color: var(--fill-color);\n",
              "    }\n",
              "    90% {\n",
              "      border-color: transparent;\n",
              "      border-bottom-color: var(--fill-color);\n",
              "    }\n",
              "  }\n",
              "</style>\n",
              "\n",
              "  <script>\n",
              "    async function quickchart(key) {\n",
              "      const quickchartButtonEl =\n",
              "        document.querySelector('#' + key + ' button');\n",
              "      quickchartButtonEl.disabled = true;  // To prevent multiple clicks.\n",
              "      quickchartButtonEl.classList.add('colab-df-spinner');\n",
              "      try {\n",
              "        const charts = await google.colab.kernel.invokeFunction(\n",
              "            'suggestCharts', [key], {});\n",
              "      } catch (error) {\n",
              "        console.error('Error during call to suggestCharts:', error);\n",
              "      }\n",
              "      quickchartButtonEl.classList.remove('colab-df-spinner');\n",
              "      quickchartButtonEl.classList.add('colab-df-quickchart-complete');\n",
              "    }\n",
              "    (() => {\n",
              "      let quickchartButtonEl =\n",
              "        document.querySelector('#df-b26a71af-98f4-423d-a402-c0a3db237508 button');\n",
              "      quickchartButtonEl.style.display =\n",
              "        google.colab.kernel.accessAllowed ? 'block' : 'none';\n",
              "    })();\n",
              "  </script>\n",
              "</div>\n",
              "    </div>\n",
              "  </div>\n"
            ],
            "application/vnd.google.colaboratory.module+javascript": "\n      import \"https://ssl.gstatic.com/colaboratory/data_table/881c4a0d49046431/data_table.js\";\n\n      const table = window.createDataTable({\n        data: [[{\n            'v': 0,\n            'f': \"0\",\n        },\n1993,\n31.645,\n6.828,\n14.895,\n0.097,\n3.341,\n0.067,\n31.143,\n7.649,\n11.082,\n11.675],\n [{\n            'v': 1,\n            'f': \"1\",\n        },\n2021,\n9.686,\n2.19,\n5.472,\n0.036,\n1.266,\n0.027,\n13.068,\n3.273,\n4.756,\n5.052],\n [{\n            'v': 2,\n            'f': \"2\",\n        },\n\"2021vs1993ch\",\n\"-69.39%\",\n\"-67.93%\",\n\"-63.26%\",\n\"-62.89%\",\n\"-62.11%\",\n\"-59.70%\",\n\"-58.04%\",\n\"-57.21%\",\n\"-57.08%\",\n\"-56.73%\"]],\n        columns: [[\"number\", \"index\"], [\"string\", \"year\"], [\"string\", \"Curacao\"], [\"string\", \"French Guiana\"], [\"string\", \"Singapore\"], [\"string\", \"Somalia\"], [\"string\", \"Syria\"], [\"string\", \"Congo Kinshasa\"], [\"string\", \"Luxembourg\"], [\"string\", \"Malta\"], [\"string\", \"Nauru\"], [\"string\", \"Denmark\"]],\n        columnOptions: [{\"width\": \"1px\", \"className\": \"index_column\"}],\n        rowsPerPage: 25,\n        helpUrl: \"https://colab.research.google.com/notebooks/data_table.ipynb\",\n        suppressOutputScrolling: true,\n        minimumWidth: undefined,\n      });\n\n      function appendQuickchartButton(parentElement) {\n        let quickchartButtonContainerElement = document.createElement('div');\n        quickchartButtonContainerElement.innerHTML = `\n<div id=\"df-8d66501c-705b-499a-9551-648d44ae737a\">\n  <button class=\"colab-df-quickchart\" onclick=\"quickchart('df-8d66501c-705b-499a-9551-648d44ae737a')\"\n            title=\"Suggest charts.\"\n            style=\"display:none;\">\n    \n<svg xmlns=\"http://www.w3.org/2000/svg\" height=\"24px\"viewBox=\"0 0 24 24\"\n     width=\"24px\">\n    <g>\n        <path d=\"M19 3H5c-1.1 0-2 .9-2 2v14c0 1.1.9 2 2 2h14c1.1 0 2-.9 2-2V5c0-1.1-.9-2-2-2zM9 17H7v-7h2v7zm4 0h-2V7h2v10zm4 0h-2v-4h2v4z\"/>\n    </g>\n</svg>\n  </button>\n  \n<style>\n  .colab-df-quickchart {\n      --bg-color: #E8F0FE;\n      --fill-color: #1967D2;\n      --hover-bg-color: #E2EBFA;\n      --hover-fill-color: #174EA6;\n      --disabled-fill-color: #AAA;\n      --disabled-bg-color: #DDD;\n  }\n\n  [theme=dark] .colab-df-quickchart {\n      --bg-color: #3B4455;\n      --fill-color: #D2E3FC;\n      --hover-bg-color: #434B5C;\n      --hover-fill-color: #FFFFFF;\n      --disabled-bg-color: #3B4455;\n      --disabled-fill-color: #666;\n  }\n\n  .colab-df-quickchart {\n    background-color: var(--bg-color);\n    border: none;\n    border-radius: 50%;\n    cursor: pointer;\n    display: none;\n    fill: var(--fill-color);\n    height: 32px;\n    padding: 0;\n    width: 32px;\n  }\n\n  .colab-df-quickchart:hover {\n    background-color: var(--hover-bg-color);\n    box-shadow: 0 1px 2px rgba(60, 64, 67, 0.3), 0 1px 3px 1px rgba(60, 64, 67, 0.15);\n    fill: var(--button-hover-fill-color);\n  }\n\n  .colab-df-quickchart-complete:disabled,\n  .colab-df-quickchart-complete:disabled:hover {\n    background-color: var(--disabled-bg-color);\n    fill: var(--disabled-fill-color);\n    box-shadow: none;\n  }\n\n  .colab-df-spinner {\n    border: 2px solid var(--fill-color);\n    border-color: transparent;\n    border-bottom-color: var(--fill-color);\n    animation:\n      spin 1s steps(1) infinite;\n  }\n\n  @keyframes spin {\n    0% {\n      border-color: transparent;\n      border-bottom-color: var(--fill-color);\n      border-left-color: var(--fill-color);\n    }\n    20% {\n      border-color: transparent;\n      border-left-color: var(--fill-color);\n      border-top-color: var(--fill-color);\n    }\n    30% {\n      border-color: transparent;\n      border-left-color: var(--fill-color);\n      border-top-color: var(--fill-color);\n      border-right-color: var(--fill-color);\n    }\n    40% {\n      border-color: transparent;\n      border-right-color: var(--fill-color);\n      border-top-color: var(--fill-color);\n    }\n    60% {\n      border-color: transparent;\n      border-right-color: var(--fill-color);\n    }\n    80% {\n      border-color: transparent;\n      border-right-color: var(--fill-color);\n      border-bottom-color: var(--fill-color);\n    }\n    90% {\n      border-color: transparent;\n      border-bottom-color: var(--fill-color);\n    }\n  }\n</style>\n\n  <script>\n    async function quickchart(key) {\n      const quickchartButtonEl =\n        document.querySelector('#' + key + ' button');\n      quickchartButtonEl.disabled = true;  // To prevent multiple clicks.\n      quickchartButtonEl.classList.add('colab-df-spinner');\n      try {\n        const charts = await google.colab.kernel.invokeFunction(\n            'suggestCharts', [key], {});\n      } catch (error) {\n        console.error('Error during call to suggestCharts:', error);\n      }\n      quickchartButtonEl.classList.remove('colab-df-spinner');\n      quickchartButtonEl.classList.add('colab-df-quickchart-complete');\n    }\n    (() => {\n      let quickchartButtonEl =\n        document.querySelector('#df-8d66501c-705b-499a-9551-648d44ae737a button');\n      quickchartButtonEl.style.display =\n        google.colab.kernel.accessAllowed ? 'block' : 'none';\n    })();\n  </script>\n</div>`;\n        parentElement.appendChild(quickchartButtonContainerElement);\n      }\n\n      appendQuickchartButton(table);\n    "
          },
          "metadata": {},
          "execution_count": 5
        }
      ]
    },
    {
      "cell_type": "markdown",
      "source": [
        "\n",
        "\n",
        "---\n",
        "\n",
        "\n",
        "# Creating Horizontal Bar Chart\n",
        "\n",
        "---\n",
        "\n"
      ],
      "metadata": {
        "id": "W6QxUSvd9HsV"
      }
    },
    {
      "cell_type": "markdown",
      "source": [
        "\n",
        "---\n",
        "\n",
        "# **> CHART B**\n",
        "\n",
        "---\n",
        "Below in chart B are the top ten countries that have made the biggest strides decreasing their CO2 emissions. The percentage of change is measured between 1993 and 2021.\n",
        "\n",
        "*`The blue portion of the graph is purposely enlarged to represent the countries Somalia and Congo Kinshasa,`*\n",
        "\n",
        "*`small emitters but big reducers. `*"
      ],
      "metadata": {
        "id": "pka11xZBUf39"
      }
    },
    {
      "cell_type": "code",
      "source": [
        "#Creating horizontal bar chart with side-by-side bars\n",
        "\n",
        "import numpy as np\n",
        "import matplotlib.pyplot as plt\n",
        "import matplotlib.ticker as mtick\n",
        "\n",
        "#Create one Fig with two ax's (the Worst Ax1 above)&(the Best Ax1 below). Sharing same X data.\n",
        "fig, (ax1, ax2) = plt.subplots(2, 1,figsize=(14,7), sharex=True,gridspec_kw={'height_ratios':[3,1]})\n",
        "fig.subplots_adjust(hspace=0.00)  # adjust space between axes\n",
        "# Creating a variable to supply X Axis Labels.\n",
        "x_countries = reshape_biggest_strides.columns[1:]\n",
        "\n",
        "x = np.arange(len(x_countries))  # the label locations\n",
        "width = 0.35  # the width of the bars\n",
        "multiplier = 0\n",
        "\n",
        "# These are the colors that will be used in the plot\n",
        "ax1.set_prop_cycle(color=['#FF3D00','#ff9896','#B39DDB','#c49c94','#c7c7c7', '#c49c94','#8c564b','#7f7f7f', '#c49c94','#8c564b','#ff9896','#c7c7c7'])\n",
        "ax2.set_prop_cycle(color=['#FF3D00','#ff9896','#c49c94', '#c7c7c7','#c49c94','#8c564b','#c7c7c7',  '#c49c94','#8c564b','#7f7f7f', '#c49c94','#8c564b','#ff9896','#c7c7c7'])\n",
        "\n",
        "# For loop to get plotpoints for each country\n",
        "for column, row in reshape_biggest_strides.head(2).iterrows():\n",
        "  year = (row['year'])\n",
        "  x_countries = list(row[1:].keys())\n",
        "  CO2 = list(row[1:].values)\n",
        "  perc_dec = reshape_biggest_strides.loc[reshape_biggest_strides['year'] == '2021vs1993ch'].values[:,1:].tolist()[0]\n",
        "  offset = width * multiplier\n",
        "  rects = ax1.bar(x + offset, CO2, width, label=year)\n",
        "  rects = ax2.bar(x + offset, CO2, width, label=year)\n",
        "  if ( multiplier == 1):\n",
        "    ax1.bar_label(rects, labels=perc_dec, rotation=90, padding=4, color='#424242')\n",
        "    ax2.bar_label(rects, labels=perc_dec, rotation=90, padding=4, color='#424242')\n",
        "  multiplier += 1 # shift bar over 1 to the right to plot the next country.\n",
        "\n",
        "ax1.set_ylabel('(tonnes/capita (CO₂)')\n",
        "\n",
        "fig.subplots_adjust(top=0.91)#Adjust space between fig and title.\n",
        "\n",
        "ax1.set_title('Countries Making Biggest Strides\\nDecreasing Their Emissions')\n",
        "\n",
        "ax1.set_xticks(x + width, x_countries)#, rotation=55)\n",
        "ax2.set_xticks(x + width, x_countries ,rotation=30, ha='right' )\n",
        "\n",
        "ax1.legend(loc='upper center', ncols=10)\n",
        "ax2.set_ylim(bottom=0, top=0.1)\n",
        "ax1.set_ylim(bottom=0.1, top=35)\n",
        "\n",
        "ax1.set_facecolor('white')#Custom background color for remaining graph data.\n",
        "ax2.set_facecolor('#A9CCE3')#Custom background color for enlarged small emitters data.\n",
        "\n",
        "# The spines between ax and ax2\n",
        "ax1.spines.bottom.set_visible(False)\n",
        "ax2.spines.top.set_visible(False)\n",
        "ax1.tick_params(labeltop=False)  # don't put tick labels at the top\n",
        "ax2.set_yticks([0,0.05,0.1])\n",
        "\n",
        "plt.show()"
      ],
      "metadata": {
        "colab": {
          "base_uri": "https://localhost:8080/",
          "height": 717
        },
        "id": "OcTqYoumVOMT",
        "outputId": "497b6274-8cc5-41e7-8311-9fa7bb74e18a"
      },
      "execution_count": null,
      "outputs": [
        {
          "output_type": "display_data",
          "data": {
            "text/plain": [
              "<Figure size 1400x700 with 2 Axes>"
            ],
            "image/png": "[encoded data removed]"
          },
          "metadata": {}
        }
      ]
    },
    {
      "cell_type": "markdown",
      "source": [
        "\n",
        "\n",
        "---\n",
        "\n",
        "\n",
        "# CONCLUSION\n",
        "\n",
        "---\n",
        "\n"
      ],
      "metadata": {
        "id": "bFAiwP9MOWj9"
      }
    },
    {
      "cell_type": "markdown",
      "source": [
        "\n",
        "These countries are making the biggest strides which is a win for the planet. However, these striders are split between active and passive reduction. Unfortunately, some of these countries have fallen victim to poverty or war leading to lower emissions as a result to these circumstances. In contrary countries like, Denmark, Singapore, Luxembourg, Malta, and Curacao are continuously making effort into decreasing Co2 by advancing their adoption of renewable energy sources.\n",
        "\n"
      ],
      "metadata": {
        "id": "ochObfVb4iEb"
      }
    },
    {
      "cell_type": "markdown",
      "source": [
        "\n",
        "\n",
        "---\n",
        "\n",
        "\n",
        "# SOURCES\n",
        "\n",
        "---\n",
        "\n"
      ],
      "metadata": {
        "id": "KymmmR57OKp0"
      }
    },
    {
      "cell_type": "markdown",
      "source": [
        "\n",
        "\n",
        "```\n",
        "  # BIGGEST STRIDES SOURCE\n",
        "\n",
        "  CO2_DATA\n",
        "    Sourced from OWID: https://github.com/owid/co2-data/blob/master/README.md on okt 2023 for this report.\n",
        "    Used: co2_per_capita\n",
        "\n",
        "```\n",
        "\n"
      ],
      "metadata": {
        "id": "s0KptWGvTxsr"
      }
    },
    {
      "cell_type": "markdown",
      "source": [
        "\n",
        "\n",
        "---\n",
        "\n",
        "\n",
        "# REFERENCES\n",
        "\n",
        "---\n",
        "\n"
      ],
      "metadata": {
        "id": "2w5VN5VMOPJA"
      }
    },
    {
      "cell_type": "markdown",
      "source": [
        "\n",
        "\n",
        "```\n",
        "  Timespan reasoning 1993 - 2021\n",
        "\n",
        "  In 1990, the First IPCC Assessment Report (FAR) underlined the importance\n",
        "  of climate change as a challenge with global consequences and requiring\n",
        "  international cooperation. It played a decisive role in the creation of the UNFCCC,\n",
        "  the key international treaty to reduce global warming and cope with the\n",
        "  consequences of climate change. From: https://www.ipcc.ch/about/history/*\n",
        "\n",
        "  1990:  \n",
        "  would have been the preferred starting point. However, 1993\n",
        "  showed more available data thus used as the start point\n",
        "  for global awareness in this report.\n",
        "\n",
        "  2021:\n",
        "  latest available data.\n",
        "```\n",
        "\n"
      ],
      "metadata": {
        "id": "S7FhP_E3MYzv"
      }
    },
    {
      "cell_type": "markdown",
      "source": [
        "Percentage of change:\n",
        "\n",
        "`recent_amount - past_amount = new_amount / past_amount = the_amount * 100 = percentage_of_change`\n",
        "\n",
        "          Example:\n",
        "          A From 1993 (20) --> 2021(60) increase 📈\n",
        "            60 -20 = 40/20 = 2 *100 =200% increase\n",
        "\n",
        "          B From 1993 (90) --> 2021(50) decrease 📉\n",
        "            50 -90 = -40/90 =-0,444 * 100 = -44,4 decrease\n",
        "\n",
        "\n"
      ],
      "metadata": {
        "id": "2glZF57JRbMy"
      }
    },
    {
      "cell_type": "markdown",
      "source": [
        "![green.png](data:image/png;base64,iVBORw0KGgoAAAANSUhEUgAAA/IAAAALCAYAAADcF7Z0AAAAAXNSR0IArs4c6QAAAARnQU1BAACxjwv8YQUAAAAJcEhZcwAADsQAAA7EAZUrDhsAAABlSURBVHhe7dcxEQAhEMDA4/27o8cK32AiM7tNNGSdPXcAAACAhO8VAAAACDDyAAAAEGLkAQAAIMTIAwAAQIiRBwAAgBAjDwAAACFGHgAAAEKMPAAAAIQYeQAAAAgx8gAAAJAx8wPe+gLGKz/e/QAAAABJRU5ErkJggg==)"
      ],
      "metadata": {
        "id": "U9I7l6TtLsFw"
      }
    }
  ]
}